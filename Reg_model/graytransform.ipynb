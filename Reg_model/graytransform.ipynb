{
 "cells": [
  {
   "cell_type": "code",
   "execution_count": 32,
   "metadata": {},
   "outputs": [
    {
     "name": "stdout",
     "output_type": "stream",
     "text": [
      "[[[  1.98872889   3.97754515   4.97198562]\n",
      "  [  0.           0.           0.99435344]\n",
      "  [  0.           1.98872889   2.98312618]\n",
      "  ...\n",
      "  [  5.96644744   0.           5.96644744]\n",
      "  [  8.94995932   0.           5.96644744]\n",
      "  [  6.96093044   0.           3.97754515]]\n",
      "\n",
      " [[  0.           2.98312618   7.95543445]\n",
      "  [  0.           2.98312618   5.96644744]\n",
      "  [  0.           0.99435344   5.96644744]\n",
      "  ...\n",
      "  [  0.99435344   0.           6.96093044]\n",
      "  [  4.97198562   0.           6.96093044]\n",
      "  [  9.94450489   1.98872889  11.93365751]]\n",
      "\n",
      " [[170.25964382 179.22948185 189.19669191]\n",
      "  [173.2495196  182.21956638 191.19022242]\n",
      "  [170.25964382 180.22616911 190.19345354]\n",
      "  ...\n",
      "  [177.23613022 180.22616911 194.18057225]\n",
      "  [181.22286397 181.22286397 195.17736981]\n",
      "  [186.20645088 186.20645088 200.16146342]]\n",
      "\n",
      " ...\n",
      "\n",
      " [[ 14.91753784  19.89106563  18.89632135]\n",
      "  [  8.94995932  13.92289107  12.92826425]\n",
      "  [ 13.92289107  15.9122044   15.9122044 ]\n",
      "  ...\n",
      "  [ 20.88582898  12.92826425  13.92289107]\n",
      "  [ 18.89632135  10.939071    11.93365751]\n",
      "  [ 27.84969519  21.88061127  22.87541236]]\n",
      "\n",
      " [[ 13.92289107  16.9068906   14.91753784]\n",
      "  [  8.94995932  11.93365751   9.94450489]\n",
      "  [ 12.92826425  14.91753784  14.91753784]\n",
      "  ...\n",
      "  [ 21.88061127  13.92289107  14.91753784]\n",
      "  [ 23.87023213  15.9122044   16.9068906 ]\n",
      "  [ 20.88582898  12.92826425  13.92289107]]\n",
      "\n",
      " [[ 11.93365751  14.91753784  12.92826425]\n",
      "  [ 14.91753784  17.9015963   15.9122044 ]\n",
      "  [ 14.91753784  16.9068906   16.9068906 ]\n",
      "  ...\n",
      "  [ 12.92826425   1.98872889   3.97754515]\n",
      "  [  8.94995932   0.99435344   1.98872889]\n",
      "  [  7.95543445   0.           0.99435344]]]\n"
     ]
    }
   ],
   "source": [
    "import cv2\n",
    "import numpy as np\n",
    "import os\n",
    "\n",
    "def log(c,img):\n",
    "    normalized_img = img/np.max(img)\n",
    "    transformed_img = c*np.log(1+normalized_img)\n",
    "    output = transformed_img/np.max(transformed_img)#np.uint8(transfromed_img*255)\n",
    "    return output\n",
    "\n",
    "def gamma(c,img,gamma):\n",
    "    lut = np.zeros(256,dtype=np.float32)\n",
    "    for i in range(256):\n",
    "        lut[i] = c*np.power(i,gamma)\n",
    "    output = cv2.LUT(img,lut)\n",
    "    output = np.uint8(output+0.5)\n",
    "    return output\n",
    "\n",
    "img = cv2.imdecode(np.fromfile(\"D:/Lab/ultrasound PTB/data/data1/images/healthy/白锋_0_4.9.jpg\", dtype=np.uint8), -1)\n",
    "output = log(10,img)\n",
    "cv2.imshow(\"input\",img)\n",
    "cv2.imshow(\"output\",output)\n",
    "cv2.waitKey(0)\n",
    "cv2.destroyAllWindows()"
   ]
  }
 ],
 "metadata": {
  "kernelspec": {
   "display_name": "torch",
   "language": "python",
   "name": "python3"
  },
  "language_info": {
   "codemirror_mode": {
    "name": "ipython",
    "version": 3
   },
   "file_extension": ".py",
   "mimetype": "text/x-python",
   "name": "python",
   "nbconvert_exporter": "python",
   "pygments_lexer": "ipython3",
   "version": "3.10.4"
  },
  "orig_nbformat": 4
 },
 "nbformat": 4,
 "nbformat_minor": 2
}
