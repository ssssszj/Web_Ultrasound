{
 "cells": [
  {
   "cell_type": "code",
   "execution_count": 3,
   "metadata": {},
   "outputs": [],
   "source": [
    "import os\n",
    "import pandas as pd"
   ]
  },
  {
   "cell_type": "code",
   "execution_count": 4,
   "metadata": {},
   "outputs": [
    {
     "name": "stdout",
     "output_type": "stream",
     "text": [
      "0 520 0 10\n"
     ]
    },
    {
     "name": "stderr",
     "output_type": "stream",
     "text": [
      "/tmp/ipykernel_779240/2118633016.py:30: FutureWarning: Inferring datetime64[ns] from data containing strings is deprecated and will be removed in a future version. To retain the old behavior explicitly pass Series(data, dtype=datetime64[ns])\n",
      "  df2 = pd.read_excel('../data/原始数据/Excel表格信息/2022-02-部分数据.xlsx',index_col=1)\n"
     ]
    }
   ],
   "source": [
    "\n",
    "def is_chinese(strings):\n",
    "    for _char in strings:\n",
    "        if '\\u4e00' <= _char <= '\\u9fa5':\n",
    "            return True\n",
    "\n",
    "ori_dir = '../data/原始数据/图像信息/'\n",
    "machine_name = {}\n",
    "\n",
    "for subdir in os.listdir(ori_dir):\n",
    "    for filename in os.listdir(os.path.join(ori_dir,subdir)):\n",
    "        name = ''\n",
    "        for char in filename:\n",
    "            if is_chinese(char):\n",
    "                name += char\n",
    "            else:\n",
    "                break\n",
    "        if os.path.isdir(os.path.join(ori_dir,subdir,filename)):\n",
    "            for jpgname in os.listdir(os.path.join(ori_dir,subdir,filename)):\n",
    "                if jpgname[-4:] != '.jpg':\n",
    "                    continue\n",
    "                else:\n",
    "                    machine_name[jpgname] = name\n",
    "        else:\n",
    "            if filename[-4:] != '.jpg':\n",
    "                continue\n",
    "            else:\n",
    "                machine_name[filename] = name\n",
    "machines = os.listdir('../data/标注信息/第二次标注/20220311-宫颈脱敏/宫颈/')\n",
    "df1 = pd.read_excel('../data/原始数据/Excel表格信息/孕周纠正版05-24剔除单胎已剔除三胎.xlsx',index_col=0) \n",
    "df2 = pd.read_excel('../data/原始数据/Excel表格信息/2022-02-部分数据.xlsx',index_col=1)\n",
    "# print(df2)\n",
    "cnt1 = 0\n",
    "cnt2 = 0\n",
    "no1 = 0\n",
    "no2 = 0\n",
    "for machine in machines:\n",
    "    flag1 = True\n",
    "    flag2 = True\n",
    "    if machine in machine_name:\n",
    "        name = machine_name[machine]\n",
    "        try:\n",
    "            t = df2.loc[name]\n",
    "            cnt2 += 1\n",
    "        except:\n",
    "            try:\n",
    "                t = df1.loc[name]\n",
    "                cnt1 += 1\n",
    "            except:\n",
    "                no2 += 1\n",
    "    else:\n",
    "        no += 1\n",
    "\n",
    "print(cnt1,cnt2,no1,no2)"
   ]
  },
  {
   "cell_type": "code",
   "execution_count": null,
   "metadata": {},
   "outputs": [],
   "source": []
  }
 ],
 "metadata": {
  "kernelspec": {
   "display_name": "Python 3.8.10 ('venv': venv)",
   "language": "python",
   "name": "python3"
  },
  "language_info": {
   "codemirror_mode": {
    "name": "ipython",
    "version": 3
   },
   "file_extension": ".py",
   "mimetype": "text/x-python",
   "name": "python",
   "nbconvert_exporter": "python",
   "pygments_lexer": "ipython3",
   "version": "3.8.10"
  },
  "orig_nbformat": 4,
  "vscode": {
   "interpreter": {
    "hash": "2de42e285f5989bda368c3924fe6d5aa92a1a27bbdea19a2fff13db41b09f806"
   }
  }
 },
 "nbformat": 4,
 "nbformat_minor": 2
}
