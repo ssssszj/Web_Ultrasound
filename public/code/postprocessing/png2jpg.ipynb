{
 "cells": [
  {
   "cell_type": "code",
   "execution_count": 2,
   "metadata": {},
   "outputs": [],
   "source": [
    "from PIL import Image\n",
    "import cv2 \n",
    "import os\n",
    "\n",
    "def PNG2JPG(PngPath):\n",
    "    img = cv2.imread(PngPath, 0)\n",
    "    w, h = img.shape[::-1]\n",
    "    infile = PngPath\n",
    "    outfile = os.path.splitext(infile)[0] + \".jpg\"\n",
    "    img = Image.open(infile)\n",
    "    img = img.resize((w, h), Image.ANTIALIAS)\n",
    "    try:\n",
    "        if len(img.split()) == 4:\n",
    "            # prevent IOError: cannot write mode RGBA as BMP\n",
    "            r, g, b, a = img.split()\n",
    "            img = Image.merge(\"RGB\", (r, g, b))\n",
    "            img.convert('RGB').save(outfile, quality=70)\n",
    "            os.remove(PngPath)\n",
    "        else:\n",
    "            img.convert('RGB').save(outfile, quality=70)\n",
    "            os.remove(PngPath)\n",
    "        return outfile\n",
    "    except Exception as e:\n",
    "        print(\"PNG转换JPG 错误\", e)\n",
    "\n",
    "\n",
    "path_root = os.getcwd()\n",
    "Path='D:/Lab/ultrasound PTB/data/first_data/E2EPTB-codes/data/image_with_hull/hull/'\n",
    "img_dir = os.listdir(Path)\n",
    "for img in img_dir:\n",
    "    if img.endswith('.png'):\n",
    "        PngPath= Path + img\n",
    "        PNG2JPG(PngPath)"
   ]
  },
  {
   "cell_type": "code",
   "execution_count": 7,
   "metadata": {},
   "outputs": [],
   "source": [
    "import os\n",
    "import cv2\n",
    "import numpy as np\n",
    "\n",
    "read_Path1='D:/Lab/ultrasound PTB/data/data1/masks/healthy/'\n",
    "read_Path2='D:/Lab/ultrasound PTB/data/data1/masks/preterm/'\n",
    "save_Path = 'D:/Lab/ultrasound PTB/data/dataset/Annotations/'\n",
    "png_dir = os.listdir(read_Path1)\n",
    "for img in png_dir:\n",
    "    png = cv2.imdecode(np.fromfile(read_Path1+img, dtype=np.uint8), -1)\n",
    "    png = cv2.cvtColor(png, cv2.COLOR_BGR2GRAY)\n",
    "    for i in range(len(png)):\n",
    "        for j in range(len(png[0])):\n",
    "            if png[i][j] != 0:\n",
    "                png[i][j] = 1\n",
    "    cv2.imencode('.png',png)[1].tofile(save_Path+img[:-4]+'.png')\n",
    "\n",
    "png_dir = os.listdir(read_Path2)\n",
    "for img in png_dir:\n",
    "    png = cv2.imdecode(np.fromfile(read_Path2+img, dtype=np.uint8), -1)\n",
    "    png = cv2.cvtColor(png, cv2.COLOR_BGR2GRAY)\n",
    "    for i in range(len(png)):\n",
    "        for j in range(len(png[0])):\n",
    "            if png[i][j] != 0:\n",
    "                png[i][j] = 1\n",
    "    cv2.imencode('.png',png)[1].tofile(save_Path+img[:-4]+'.png')\n",
    "\n"
   ]
  }
 ],
 "metadata": {
  "kernelspec": {
   "display_name": "Python(torch)",
   "language": "python",
   "name": "torch"
  },
  "language_info": {
   "codemirror_mode": {
    "name": "ipython",
    "version": 3
   },
   "file_extension": ".py",
   "mimetype": "text/x-python",
   "name": "python",
   "nbconvert_exporter": "python",
   "pygments_lexer": "ipython3",
   "version": "3.10.4"
  },
  "orig_nbformat": 4
 },
 "nbformat": 4,
 "nbformat_minor": 2
}
