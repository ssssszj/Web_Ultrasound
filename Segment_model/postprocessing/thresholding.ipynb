{
 "cells": [
  {
   "cell_type": "code",
   "execution_count": 2,
   "metadata": {},
   "outputs": [],
   "source": [
    "import cv2\n",
    "import xml.etree.ElementTree as ET\n",
    "import os\n",
    "import matplotlib.pyplot as plt\n",
    "import numpy as np\n",
    "import pandas as pd\n",
    "from sklearn.metrics import accuracy_score, confusion_matrix, roc_auc_score, roc_curve, auc\n",
    "from sklearn.linear_model import LogisticRegression\n",
    "from sklearn.model_selection import train_test_split\n",
    "import random\n",
    "from imageio import imread\n",
    "import morphsnakes as ms\n",
    "from tqdm import tqdm"
   ]
  },
  {
   "cell_type": "code",
   "execution_count": 3,
   "metadata": {},
   "outputs": [
    {
     "name": "stdout",
     "output_type": "stream",
     "text": [
      "275\n",
      "275\n",
      "275\n"
     ]
    }
   ],
   "source": [
    "uuid_scale={}\n",
    "scale_root = ET.parse('/mnt/process/data_first/cervix_image_with_mask_and_bbox/scale_annotations.xml').getroot()\n",
    "for image in scale_root.findall('image'):\n",
    "    uuid = image.attrib['name'][:-4]\n",
    "    for anno in image:\n",
    "        if anno.tag == 'polyline':\n",
    "            arr = np.array(list(map(\n",
    "                lambda x: np.array(x.strip().split(','), dtype=np.float32),\n",
    "                anno.attrib['points'].split(';')\n",
    "            )))\n",
    "            scale = arr[1][1]-arr[0][1]\n",
    "            uuid_scale[uuid]=scale       \n",
    "\n",
    "base_dir = '/mnt/process/data_first/cervix_image_with_mask_and_bbox/images'\n",
    "root = ET.parse('/mnt/process/data_first/cervix_image_with_mask_and_bbox/annotations.xml').getroot()\n",
    "name_df = pd.read_csv('/mnt/process/data_first/uuid_name.csv',index_col=0)\n",
    "info_df = pd.read_csv('/mnt/process/data_first/yunzhou.csv',index_col=0)\n",
    "\n",
    "\n",
    "cervixs=[]\n",
    "labels=[]\n",
    "names=[]\n",
    "uuids=[]\n",
    "polygons=[]\n",
    "boxes=[]\n",
    "img_paths=[]\n",
    "scales=[]\n",
    "masks = []\n",
    "\n",
    "for image in root.findall('image'):\n",
    "    flag=True\n",
    "    path = image.attrib['name']\n",
    "    img_path = os.path.join(base_dir, path)   \n",
    "    uuid = path.split('/')[-1][:-4]  \n",
    "    for anno in image:\n",
    "        if anno.tag == 'box':\n",
    "            xtl = round(float(anno.attrib['xtl']))\n",
    "            ytl = round(float(anno.attrib['ytl']))\n",
    "            xbr = round(float(anno.attrib['xbr']))\n",
    "            ybr = round(float(anno.attrib['ybr']))\n",
    "            box=np.array([xtl,ytl,xbr,ybr])\n",
    "           \n",
    "        elif anno.tag == 'polygon':\n",
    "            polygon = np.array(list(map(\n",
    "                lambda x: np.array(x.strip().split(','), dtype=np.float32),\n",
    "                anno.attrib['points'].split(';')\n",
    "            )))\n",
    "            mask =  np.around(polygon).astype(np.int32)\n",
    "\n",
    "    try:\n",
    "        name = name_df.loc[uuid]['Source'] \n",
    "        name = name.split('/')[-1].split('_')[0]\n",
    "    except:\n",
    "        # print('Person not found')\n",
    "        flag=False\n",
    "\n",
    "    try:\n",
    "        label = info_df.loc[name]['自发性早产诊断']\n",
    "        # print(label)\n",
    "    except:\n",
    "        # print('Label not found')\n",
    "        flag=False\n",
    "\n",
    "    try:\n",
    "        cervix = info_df.loc[name]['孕中期宫颈长度']\n",
    "        if np.isnan(cervix):\n",
    "           flag = False\n",
    "        #    print(name)\n",
    "    except:\n",
    "        # print('Cervix not found')\n",
    "        flag=False\n",
    "    \n",
    "    scale = uuid_scale[uuid]\n",
    "    \n",
    "    if flag:\n",
    "        cervixs.append(cervix)\n",
    "        labels.append(label)\n",
    "        names.append(name)\n",
    "        uuids.append(uuid)\n",
    "        polygons.append(polygon)\n",
    "        boxes.append(box)\n",
    "        img_paths.append(img_path)\n",
    "        scales.append(scale)\n",
    "        masks.append(mask)\n",
    "        \n",
    "\n",
    "\n",
    "    \n",
    "\n",
    "print(len(labels))\n",
    "print(len(cervixs))\n",
    "print(len(scales))"
   ]
  },
  {
   "cell_type": "code",
   "execution_count": 28,
   "metadata": {},
   "outputs": [],
   "source": [
    "distributions = []\n",
    "for img_path,mask,label,scale,name in zip(img_paths,masks,labels,scales,names):\n",
    "    distribution = []\n",
    "    img= cv2.imread(img_path)\n",
    "    the_mask = np.zeros(img.shape[:-1], dtype=np.float32)\n",
    "    cv2.fillPoly(the_mask, [mask], color=1)\n",
    "    img = img[...,0]\n",
    "    area = np.sum((the_mask!=0))\n",
    "    for i in range(0,255,5):\n",
    "        part_area = np.sum((the_mask!=0) * (img >= i) * (img < i+5))\n",
    "        part_area = part_area/area\n",
    "        distribution.append(part_area)\n",
    "    distributions.append(distribution)"
   ]
  },
  {
   "cell_type": "code",
   "execution_count": 29,
   "metadata": {},
   "outputs": [
    {
     "data": {
      "text/plain": [
       "[<matplotlib.lines.Line2D at 0x7fea25d7de50>]"
      ]
     },
     "execution_count": 29,
     "metadata": {},
     "output_type": "execute_result"
    },
    {
     "data": {
      "image/png": "[encoded data removed]",
      "text/plain": [
       "<Figure size 432x288 with 1 Axes>"
      ]
     },
     "metadata": {
      "needs_background": "light"
     },
     "output_type": "display_data"
    }
   ],
   "source": [
    "healthy_distribution = np.zeros(len(distributions[0]))\n",
    "zaochan_distribution = np.zeros(len(distributions[0]))\n",
    "hcnt = 0\n",
    "zcnt =0\n",
    "for label,distribution in zip(labels,distributions):\n",
    "    if label ==0 :\n",
    "        healthy_distribution += np.array(distribution)\n",
    "        hcnt += 1\n",
    "    else:\n",
    "        zaochan_distribution += np.array(distribution)\n",
    "        zcnt += 1\n",
    "healthy_distribution/=hcnt\n",
    "zaochan_distribution/=zcnt\n",
    "plt.plot(zaochan_distribution,color='r')\n",
    "plt.plot(healthy_distribution,color='b')"
   ]
  },
  {
   "cell_type": "code",
   "execution_count": 30,
   "metadata": {},
   "outputs": [
    {
     "data": {
      "text/plain": [
       "[<matplotlib.lines.Line2D at 0x7fea234977f0>]"
      ]
     },
     "execution_count": 30,
     "metadata": {},
     "output_type": "execute_result"
    },
    {
     "data": {
      "image/png": "[encoded data removed]",
      "text/plain": [
       "<Figure size 432x288 with 1 Axes>"
      ]
     },
     "metadata": {
      "needs_background": "light"
     },
     "output_type": "display_data"
    }
   ],
   "source": [
    "zaochan_cdf = [0]\n",
    "healthy_cdf = [0]\n",
    "zsum = 0\n",
    "hsum = 0\n",
    "for h,z in zip(healthy_distribution,zaochan_distribution):\n",
    "    hsum += h\n",
    "    zsum += z\n",
    "    healthy_cdf.append(hsum)\n",
    "    zaochan_cdf.append(zsum)\n",
    "\n",
    "plt.plot(healthy_cdf)\n",
    "plt.plot(zaochan_cdf)"
   ]
  },
  {
   "cell_type": "code",
   "execution_count": 18,
   "metadata": {},
   "outputs": [
    {
     "data": {
      "text/plain": [
       "(275, 2)"
      ]
     },
     "execution_count": 18,
     "metadata": {},
     "output_type": "execute_result"
    }
   ],
   "source": [
    "np.array(distributions)[...,20:22].shape"
   ]
  },
  {
   "cell_type": "code",
   "execution_count": 34,
   "metadata": {},
   "outputs": [
    {
     "name": "stdout",
     "output_type": "stream",
     "text": [
      "Train:\n",
      "0.5113901250264886\n"
     ]
    },
    {
     "data": {
      "image/png": "[encoded data removed]",
      "text/plain": [
       "<Figure size 432x288 with 1 Axes>"
      ]
     },
     "metadata": {
      "needs_background": "light"
     },
     "output_type": "display_data"
    }
   ],
   "source": [
    "\n",
    "#回归\n",
    "\n",
    "\n",
    "# x = np.array(np.array(distributions)[...,20],dtype=np.float32)\n",
    "y = np.array(labels,dtype=np.float32)\n",
    "# x = np.reshape(x,(-1,1))\n",
    "x = []\n",
    "for i in range(len(labels)):\n",
    "    x.append([sum(distributions[i][15:20])])\n",
    "\n",
    "def print_result(y_pred,y_test):\n",
    "    fpr, tpr, _ = roc_curve(y_test,y_pred)\n",
    "    roc_auc = auc(fpr, tpr)\n",
    "    print(roc_auc)\n",
    "    plt.figure()\n",
    "    lw = 2\n",
    "    plt.plot(fpr, tpr, color='darkorange',\n",
    "             lw=lw, label='ROC curve (area = %0.2f)' % roc_auc)\n",
    "   \n",
    "    plt.xlim([-0.02, 1.0])\n",
    "    plt.ylim([0.0, 1.05])\n",
    "    plt.xlabel('False Positive Rate')\n",
    "    plt.ylabel('True Positive Rate')\n",
    "    plt.title('ROC curve')\n",
    "    plt.legend(loc=\"lower right\")\n",
    "    plt.show()\n",
    "    return roc_auc\n",
    "    \n",
    "\n",
    "\n",
    "def train_and_test(need_test):\n",
    "    if need_test:\n",
    "        seed = random.randint(0,1000000)\n",
    "        test_size=0.2\n",
    "      \n",
    "        x_train,x_test,y_train,y_test=train_test_split(x,y,test_size=test_size,random_state=seed,stratify=y)\n",
    "    else:\n",
    "        x_train,y_train = x,y\n",
    "\n",
    "\n",
    "    model= LogisticRegression()\n",
    "    model.fit(x_train,y_train)\n",
    "    train_pred=model.predict_proba(x_train)[:,1]\n",
    "    print(\"Train:\")\n",
    "    print_result(train_pred,y_train)\n",
    "    if need_test:\n",
    "        y_pred=model.predict_proba(x_test)[:,1]     \n",
    "        print(\"Test:\")\n",
    "        print_result(y_pred,y_test)\n",
    "\n",
    "train_and_test(False)"
   ]
  },
  {
   "cell_type": "code",
   "execution_count": 7,
   "metadata": {},
   "outputs": [
    {
     "data": {
      "text/plain": [
       "[<matplotlib.lines.Line2D at 0x7fea2393bfa0>]"
      ]
     },
     "execution_count": 7,
     "metadata": {},
     "output_type": "execute_result"
    },
    {
     "data": {
      "image/png": "[encoded data removed]",
      "text/plain": [
       "<Figure size 432x288 with 1 Axes>"
      ]
     },
     "metadata": {
      "needs_background": "light"
     },
     "output_type": "display_data"
    }
   ],
   "source": []
  },
  {
   "cell_type": "code",
   "execution_count": 22,
   "metadata": {},
   "outputs": [
    {
     "data": {
      "text/plain": [
       "[<matplotlib.lines.Line2D at 0x7fecd8f6a910>]"
      ]
     },
     "execution_count": 22,
     "metadata": {},
     "output_type": "execute_result"
    },
    {
     "data": {
      "image/png": "[encoded data removed]",
      "text/plain": [
       "<Figure size 432x288 with 1 Axes>"
      ]
     },
     "metadata": {
      "needs_background": "light"
     },
     "output_type": "display_data"
    }
   ],
   "source": []
  },
  {
   "cell_type": "code",
   "execution_count": null,
   "metadata": {},
   "outputs": [],
   "source": []
  }
 ],
 "metadata": {
  "kernelspec": {
   "display_name": "Python 3.9.12 ('myconda': conda)",
   "language": "python",
   "name": "python3"
  },
  "language_info": {
   "codemirror_mode": {
    "name": "ipython",
    "version": 3
   },
   "file_extension": ".py",
   "mimetype": "text/x-python",
   "name": "python",
   "nbconvert_exporter": "python",
   "pygments_lexer": "ipython3",
   "version": "3.9.12"
  },
  "orig_nbformat": 4,
  "vscode": {
   "interpreter": {
    "hash": "ccc93251d6f721491c6fbc0c6bcbe4e9a605d28f77b9a8e19b15e1c61d18557e"
   }
  }
 },
 "nbformat": 4,
 "nbformat_minor": 2
}
